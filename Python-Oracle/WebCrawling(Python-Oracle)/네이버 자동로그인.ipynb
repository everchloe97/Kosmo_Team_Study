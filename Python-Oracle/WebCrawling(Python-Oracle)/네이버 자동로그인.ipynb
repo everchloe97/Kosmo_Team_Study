{
 "cells": [
  {
   "cell_type": "code",
   "execution_count": null,
   "id": "6c96d741",
   "metadata": {},
   "outputs": [],
   "source": [
    "# 먼저 아나콘다 cmd 켜서 pip install selenium 하셔야 되요\n",
    "\n",
    "from selenium import webdriver\n",
    "import time\n",
    "\n",
    "driver = webdriver.Chrome(\"C:\\chromedriver.exe\")\n",
    "\n",
    "url = \"https://nid.naver.com/nidlogin.login\"\n",
    "\n",
    "driver.get(url)"
   ]
  },
  {
   "cell_type": "code",
   "execution_count": null,
   "id": "d389f98e",
   "metadata": {},
   "outputs": [],
   "source": [
    "login = {\n",
    "    \"id\" : \"아이디 입력하면 됩니다\", \n",
    "    \"pw\" : \"비밀번호 입력하면 됩니다\"\n",
    "}\n",
    "\n",
    "time.sleep(0.5)\n",
    "driver.find_element_by_name('id').send_keys(login.get(\"id\"))\n",
    "time.sleep(0.5)\n",
    "driver.find_element_by_name('pw').send_keys(login.get(\"pw\"))"
   ]
  },
  {
   "cell_type": "code",
   "execution_count": null,
   "id": "fab0bf39",
   "metadata": {},
   "outputs": [],
   "source": [
    "driver.find_element_by_xpath('//*[@id=\"log.login\"]').click()"
   ]
  },
  {
   "cell_type": "code",
   "execution_count": null,
   "id": "4165a0c3",
   "metadata": {},
   "outputs": [],
   "source": [
    "from selenium.webdriver.common.action_chains import ActionChains\n",
    "from selenium.webdriver.common.keys import Keys\n",
    "import pyperclip\n",
    "\n",
    "def clipboard_input(user_xpath, user_input):\n",
    "        temp_user_input = pyperclip.paste()\n",
    "\n",
    "        pyperclip.copy(user_input)\n",
    "        driver.find_element_by_xpath(user_xpath).click()\n",
    "        ActionChains(driver).key_down(Keys.CONTROL).send_keys('v').key_up(Keys.CONTROL).perform()\n",
    "\n",
    "        pyperclip.copy(temp_user_input)\n",
    "        time.sleep(1)"
   ]
  },
  {
   "cell_type": "code",
   "execution_count": null,
   "id": "4a31e78f",
   "metadata": {},
   "outputs": [],
   "source": [
    "clipboard_input('//*[@id=\"id\"]', login.get(\"id\"))\n",
    "clipboard_input('//*[@id=\"pw\"]', login.get(\"pw\"))\n",
    "driver.find_element_by_xpath('//*[@id=\"log.login\"]').click()"
   ]
  },
  {
   "cell_type": "code",
   "execution_count": 3,
   "id": "5106d79c",
   "metadata": {},
   "outputs": [],
   "source": [
    "from selenium import webdriver\n",
    "import time\n",
    "\n",
    "driver = webdriver.Chrome(\"C:\\chromedriver.exe\")\n",
    "\n",
    "url = \"https://nid.naver.com/nidlogin.login\"\n",
    "\n",
    "driver.get(url)\n",
    "\n",
    "login = {\n",
    "    \"id\" : \"아이디 입력하면 됩니다\", \n",
    "    \"pw\" : \"비밀번호 입력하면 됩니다\"\n",
    "}\n",
    "\n",
    "# time.sleep(0.5)\n",
    "# driver.find_element_by_name('id').send_keys(login.get(\"id\"))\n",
    "# time.sleep(0.5)\n",
    "# driver.find_element_by_name('pw').send_keys(login.get(\"pw\"))\n",
    "\n",
    "from selenium.webdriver.common.action_chains import ActionChains\n",
    "from selenium.webdriver.common.keys import Keys\n",
    "import pyperclip\n",
    "\n",
    "def clipboard_input(user_xpath, user_input):\n",
    "        temp_user_input = pyperclip.paste()\n",
    "\n",
    "        pyperclip.copy(user_input)\n",
    "        driver.find_element_by_xpath(user_xpath).click()\n",
    "        ActionChains(driver).key_down(Keys.CONTROL).send_keys('v').key_up(Keys.CONTROL).perform()\n",
    "\n",
    "        pyperclip.copy(temp_user_input)\n",
    "        time.sleep(1)\n",
    "        \n",
    "clipboard_input('//*[@id=\"id\"]', login.get(\"id\"))\n",
    "clipboard_input('//*[@id=\"pw\"]', login.get(\"pw\"))\n",
    "driver.find_element_by_xpath('//*[@id=\"log.login\"]').click()"
   ]
  },
  {
   "cell_type": "code",
   "execution_count": null,
   "id": "6f7535d0",
   "metadata": {},
   "outputs": [],
   "source": []
  }
 ],
 "metadata": {
  "kernelspec": {
   "display_name": "Python 3",
   "language": "python",
   "name": "python3"
  },
  "language_info": {
   "codemirror_mode": {
    "name": "ipython",
    "version": 3
   },
   "file_extension": ".py",
   "mimetype": "text/x-python",
   "name": "python",
   "nbconvert_exporter": "python",
   "pygments_lexer": "ipython3",
   "version": "3.8.8"
  }
 },
 "nbformat": 4,
 "nbformat_minor": 5
}
