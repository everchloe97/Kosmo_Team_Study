{
 "cells": [
  {
   "cell_type": "code",
   "execution_count": 1,
   "id": "9498c7a5",
   "metadata": {},
   "outputs": [],
   "source": [
    "# 크롤링 라이브러리 임포트\n",
    "from urllib.request import urlopen\n",
    "from bs4 import BeautifulSoup\n",
    "import pandas as pd\n",
    "\n",
    "companyNameList=[] # 회사명 리스트\n",
    "companySalaryUrlList = [] # 회사 연봉정보의 Url 리스트\n",
    "avgCurrencyList = [] # 회사 평균 연봉정보 리스트\n",
    "avgUnivCurrencyList = [] # 회사 대졸 초임 평균 연봉정보 리스트\n",
    "\n",
    "# 사람인 연봉정보 사이트 정보 입력\n",
    "html = urlopen(\"https://www.saramin.co.kr/zf_user/salaries/total-salary/list?page=1&order=rank&industry_cd=&company_cd=&rec_status=&search_company_nm_org=&search_company_nm=&min_salary=&max_salary=&request_modify_company_nm=\")\n",
    "bsObject = BeautifulSoup(html,\"html.parser\")"
   ]
  },
  {
   "cell_type": "code",
   "execution_count": 2,
   "id": "59045141",
   "metadata": {},
   "outputs": [],
   "source": [
    "# 해당하는 회사 명 크롤링하기\n",
    "for i in range(20):\n",
    "    companyName = bsObject.find_all(\"a\",{\"class\":\"link_tit\"})[i].text\n",
    "    companyNameList.append(companyName)"
   ]
  },
  {
   "cell_type": "code",
   "execution_count": 3,
   "id": "4607b1ab",
   "metadata": {},
   "outputs": [],
   "source": [
    "# 랭킹 1등부터 20등까지의 사람인 연봉 회사의 url 정보 추출\n",
    "for i in range(20):\n",
    "    link = \"http://www.saramin.co.kr\" + bsObject.find_all(\"a\",{\"class\":\"logo\"})[i].get(\"href\")\n",
    "    companySalaryUrlList.append(link)"
   ]
  },
  {
   "cell_type": "code",
   "execution_count": 4,
   "id": "e4f9eed9",
   "metadata": {},
   "outputs": [],
   "source": [
    "# 추출한 url에서 평균 연봉정보를 avgCurrencyList에 저장\n",
    "for i in range(20):\n",
    "    html2 = urlopen(companySalaryUrlList[i])\n",
    "    bsObject2 = BeautifulSoup(html2,\"html.parser\")\n",
    "    avgCurrency = (bsObject2.find_all(\"em\")[0]).text\n",
    "    avgCurrency = avgCurrency.replace(\",\",\"\")\n",
    "    avgCurrencyList.append(avgCurrency)"
   ]
  },
  {
   "cell_type": "code",
   "execution_count": 5,
   "id": "92aef2f7",
   "metadata": {},
   "outputs": [],
   "source": [
    "# 추출한 정보를 최종 finalList에 저장한 후 csv파일로 저장\n",
    "arr=[]\n",
    "arr={\n",
    "    \"회사명\":companyNameList,\n",
    "    \"연봉정보\":avgCurrencyList}\n",
    "\n",
    "finalList = pd.DataFrame(arr ,columns = [\"회사명\",\"연봉정보\"])"
   ]
  },
  {
   "cell_type": "code",
   "execution_count": 11,
   "id": "e8a1e106",
   "metadata": {},
   "outputs": [
    {
     "name": "stdout",
     "output_type": "stream",
     "text": [
      "         회사명  연봉정보\n",
      "0       삼성전자  7271\n",
      "1   에스케이하이닉스  6413\n",
      "2      SK텔레콤  7504\n",
      "3        오뚜기  4312\n",
      "4        코스콤  6881\n",
      "5    SK이노베이션  7069\n",
      "6     한국방송공사  6549\n",
      "7       농협은행  6290\n",
      "8      유한킴벌리  6925\n",
      "9    마이다스아이티  5313\n",
      "10     이랜드건설  5065\n",
      "11     현대자동차  6669\n",
      "12   삼성에스디에스  6944\n",
      "13    대방산업개발  4770\n",
      "14     금융결제원  6882\n",
      "15    한국남방개발  5818\n",
      "16       포스코  6287\n",
      "17    울산알루미늄  6643\n",
      "18       세메스  6693\n",
      "19      세아상역  5301\n"
     ]
    }
   ],
   "source": [
    "print(finalList)"
   ]
  },
  {
   "cell_type": "code",
   "execution_count": 7,
   "id": "4842f840",
   "metadata": {},
   "outputs": [],
   "source": [
    "# CSV 파일로 저장하기\n",
    "finalList.to_csv(\"sample.csv\", encoding=\"utf-8\")"
   ]
  },
  {
   "cell_type": "code",
   "execution_count": 8,
   "id": "6bdaabab",
   "metadata": {},
   "outputs": [],
   "source": [
    "#데이터 베이스에 저장하기\n",
    "import cx_Oracle\n",
    "import os\n",
    "\n",
    "LOCATION = r\"C:\\instantclient_19_11\"\n",
    "os.environ[\"PATH\"]=LOCATION + \";\"+os.environ[\"PATH\"]"
   ]
  },
  {
   "cell_type": "code",
   "execution_count": 9,
   "id": "5391160c",
   "metadata": {},
   "outputs": [],
   "source": [
    "connect = cx_Oracle.connect(\"HR\",\"1234\",\"localhost\")\n",
    "cursor = connect.cursor()"
   ]
  },
  {
   "cell_type": "code",
   "execution_count": 10,
   "id": "15b29112",
   "metadata": {},
   "outputs": [],
   "source": [
    "for i in range(20):\n",
    "    sql = \"INSERT INTO company VALUES('\" + companyNameList[i] +\"',\"+ avgCurrencyList[i] + \")\"\n",
    "    cursor.execute(sql)\n",
    "cursor.close()\n",
    "connect.commit()\n",
    "connect.close()"
   ]
  }
 ],
 "metadata": {
  "kernelspec": {
   "display_name": "Python 3",
   "language": "python",
   "name": "python3"
  },
  "language_info": {
   "codemirror_mode": {
    "name": "ipython",
    "version": 3
   },
   "file_extension": ".py",
   "mimetype": "text/x-python",
   "name": "python",
   "nbconvert_exporter": "python",
   "pygments_lexer": "ipython3",
   "version": "3.8.8"
  }
 },
 "nbformat": 4,
 "nbformat_minor": 5
}
